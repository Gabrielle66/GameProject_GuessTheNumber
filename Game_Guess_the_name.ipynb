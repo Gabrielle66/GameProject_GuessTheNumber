{
 "cells": [
  {
   "cell_type": "code",
   "execution_count": 8,
   "id": "875ed33b",
   "metadata": {},
   "outputs": [
    {
     "name": "stdout",
     "output_type": "stream",
     "text": [
      "                 WELCOME TO THE GAME: GUESS THE NUMBER\n",
      "Entrer 1 for Easy level \n",
      "Entrer 2 for Medium level \n",
      "Entrer 3 for Hard level\n",
      "Choose the level of the game: dfjhiud\n",
      "The level is not correct, choose only the number 1,2 or 3 : jhfgjr\n",
      "The level is not correct, choose only the number 1,2 or 3 : 5\n",
      "The level is not correct, choose only the number 1,2 or 3 : 1\n",
      "           YOU CHOSE THE EASY LEVEL \n",
      "           LET'S GO\n"
     ]
    }
   ],
   "source": [
    "###Choose the level of the game\n",
    "\n",
    "list_level=[\"1\",\"2\",\"3\"]\n",
    "print(\"                 WELCOME TO THE GAME: GUESS THE NUMBER\") \n",
    "print(\"Entrer 1 for Easy level \\nEntrer 2 for Medium level \\nEntrer 3 for Hard level\")\n",
    "level=input(\"Choose the level of the game: \")\n",
    "while level not in list_level:\n",
    "    level=input(\"The level is not correct, choose only the number 1,2 or 3 : \")\n",
    "    \n",
    "if level==\"1\":\n",
    "    print(\"           YOU CHOSE THE EASY LEVEL \\n           LET'S GO\")\n",
    "    x=1\n",
    "    y=10\n",
    "    trial=5\n",
    "elif level==\"2\":\n",
    "    print(\"           YOU CHOSE THE MEDIUM LEVEL \\n         LET'S GO \")\n",
    "    x=10\n",
    "    y=100 \n",
    "    trial=7\n",
    "elif level==\"3\":\n",
    "    print(\"           YOU CHOSE THE HARD LEVEL \\n           LET'S GO\")\n",
    "    x=-500\n",
    "    y=500\n",
    "    trial=10"
   ]
  },
  {
   "cell_type": "code",
   "execution_count": 9,
   "id": "bddc23de",
   "metadata": {
    "scrolled": true
   },
   "outputs": [
    {
     "name": "stdout",
     "output_type": "stream",
     "text": [
      "3\n"
     ]
    }
   ],
   "source": [
    "###Choose a random number (guess)\n",
    "import random\n",
    "#print(x,y)\n",
    "number=random.randint(x,y)  \n",
    "   "
   ]
  },
  {
   "cell_type": "code",
   "execution_count": 17,
   "id": "029eb360",
   "metadata": {},
   "outputs": [
    {
     "name": "stdout",
     "output_type": "stream",
     "text": [
      "Guess the number between 1 and 10 : 4\n",
      "Too high, try again. Hint: the number is less than 4.\n",
      "Guess the number between 1 and 10 : 3\n",
      "You guessed it! The number was 3 with  2 chances\n"
     ]
    }
   ],
   "source": [
    "###Guess a number:\n",
    "count=0\n",
    "while count < trial:\n",
    "    try:\n",
    "        guess = int(input(f\"Guess the number between {x} and {y} : \"))\n",
    "        if not x <= guess <= y:\n",
    "            print(\"Invalid input! The number should be between \",x,\" and \",y,\" :  \")\n",
    "        elif guess > number:\n",
    "            print(\"Too high, try again. Hint: the number is less than {}.\".format(guess))\n",
    "        elif guess < number:\n",
    "            print(\"Too low, try again. Hint: the number is greater than {}.\".format(guess))\n",
    "        else:\n",
    "            print(\"You guessed it! The number was\", number, \"with \",count+1, \"chances\")\n",
    "            break\n",
    "        count += 1\n",
    "    except ValueError:\n",
    "        print(\"Invalid input! Please enter a number.\")\n",
    "else:\n",
    "    print(\"             YOU LOST THE GAME \\nYou have reached the maximum number of chances. \\nThe number was\", number)    \n"
   ]
  },
  {
   "cell_type": "code",
   "execution_count": null,
   "id": "968a369d",
   "metadata": {},
   "outputs": [],
   "source": []
  }
 ],
 "metadata": {
  "kernelspec": {
   "display_name": "Python 3 (ipykernel)",
   "language": "python",
   "name": "python3"
  },
  "language_info": {
   "codemirror_mode": {
    "name": "ipython",
    "version": 3
   },
   "file_extension": ".py",
   "mimetype": "text/x-python",
   "name": "python",
   "nbconvert_exporter": "python",
   "pygments_lexer": "ipython3",
   "version": "3.9.12"
  }
 },
 "nbformat": 4,
 "nbformat_minor": 5
}
